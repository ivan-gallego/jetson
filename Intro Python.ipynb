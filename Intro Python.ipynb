{
 "cells": [
  {
   "cell_type": "markdown",
   "metadata": {},
   "source": [
    "# Introducción a Python 3"
   ]
  },
  {
   "cell_type": "markdown",
   "metadata": {},
   "source": [
    "El presente cuaderno repasa unos conceptos básicos de la programación en Python utilizados en el resto de prácticas.\n",
    "\n",
    "Algunas de las características de Python que lo diferencian con respecto a otros lenguajes de programación son las siguientes:\n",
    "\n",
    "* **Lenguaje interpretado**: No existe el concepto de compilación. El código es traducido a un lenguaje intermedia **bytecode** y el intérprete ejecuta las líneas una a una. En la práctica, esto facilita la depuración.\n",
    "* **Tipado dinámico**: El tipo de una variable es determinado en tiempo de ejecución y no de manera previa. Por lo tanto no es necesario definir el tipo de una variable en su definición.\n",
    "* **Portabilidad**: El código de Python es portable e independiente de la máquina en la que se ejecute.\n",
    "* **Alto nivel**: No es necesario gestionar posiciones de memoria, recolector de basura etc...\n",
    "* **Indentación**: Los bloques de código (funciones, bucles...) en Python quedan delimitados por su tabulación con respecto al resto del código, no se utilizan llaves {}. De esta manera la estructura visual del programa representa la estructura semántica del mismo.\n"
   ]
  },
  {
   "cell_type": "code",
   "execution_count": 7,
   "metadata": {},
   "outputs": [
    {
     "name": "stdout",
     "output_type": "stream",
     "text": [
      "La variable con valor 2.5 es de tipo <class 'float'>\n",
      "La variable con valor 2 es de tipo <class 'int'>\n",
      "La variable con valor False es de tipo <class 'bool'>\n",
      "La variable con valor 2 es de tipo <class 'int'>\n",
      "La variable con valor False es de tipo <class 'bool'>\n",
      "La variable con valor prueba es de tipo <class 'str'>\n",
      "La variable con valor False es de tipo <class 'bool'>\n",
      "La variable con valor 2 es de tipo <class 'int'>\n",
      "La variable con valor prueba es de tipo <class 'str'>\n",
      "La variable con valor 2.5 es de tipo <class 'float'>\n"
     ]
    }
   ],
   "source": [
    "import random\n",
    "def random_value():\n",
    "    l = [2, 2.5, \"prueba\", False]\n",
    "    return random.choice(l)\n",
    "\n",
    "for _ in range(10):\n",
    "    value = random_value()\n",
    "    print(f\"La variable con valor {value} es de tipo {type(value)}\")"
   ]
  },
  {
   "cell_type": "markdown",
   "metadata": {},
   "source": [
    "# Variables y valores"
   ]
  },
  {
   "cell_type": "markdown",
   "metadata": {},
   "source": [
    "Una variable en Python se puede interpretar como un contenedor de un valor con un identificador asociado. El valor de una variable puede cambiar pero siempre nos referiremos a la misma por su identificador.\n",
    "\n",
    "La siguiente celda muestra como es posible declarar variables y asignar valores a las mismas."
   ]
  },
  {
   "cell_type": "code",
   "execution_count": 8,
   "metadata": {},
   "outputs": [
    {
     "name": "stdout",
     "output_type": "stream",
     "text": [
      "33 Hola mundo\n"
     ]
    }
   ],
   "source": [
    "x = 10 # los comentarios de código se indican tras un símbolo '#'\n",
    "y = 23\n",
    "z = 'Hola mundo'\n",
    "print(x+y, z)"
   ]
  },
  {
   "cell_type": "markdown",
   "metadata": {},
   "source": [
    "Como podemos comprobar, no es necesario indicar el tipo de datos que almacena la variable debido al tipado dinámico.\n",
    "\n",
    "También es posible asignar múltiples variables con el mismo valor."
   ]
  },
  {
   "cell_type": "code",
   "execution_count": 2,
   "metadata": {},
   "outputs": [
    {
     "name": "stdout",
     "output_type": "stream",
     "text": [
      "1 1\n"
     ]
    }
   ],
   "source": [
    "x = y = 1\n",
    "print(x,y)"
   ]
  },
  {
   "cell_type": "markdown",
   "metadata": {},
   "source": [
    "Los tipos de datos básicos en Python incluyen `float` para números de punto flotante, `int` en el caso de enteros, `str` para cadenas de caracteres y `bool` para booleanos.\n",
    "\n",
    "La siguiente celda muestra ejemplos de cada tipo:"
   ]
  },
  {
   "cell_type": "code",
   "execution_count": 9,
   "metadata": {},
   "outputs": [
    {
     "name": "stdout",
     "output_type": "stream",
     "text": [
      "<class 'int'>\n",
      "<class 'float'>\n",
      "<class 'bool'>\n",
      "<class 'str'>\n"
     ]
    }
   ],
   "source": [
    "a = 53\n",
    "b = 3.0\n",
    "c = True\n",
    "d = 'hola'\n",
    "\n",
    "print(type(a))\n",
    "print(type(b))\n",
    "print(type(c))\n",
    "print(type(d))"
   ]
  },
  {
   "cell_type": "markdown",
   "metadata": {},
   "source": [
    "Como podemos comprobar en las celdas anteriores, no es necesario indicar el tipo de cada variable en la declaración de las mismas. Esto es debido al tipado dinámico de Python. El tipo de cada variable viene definido por el valor que 'almacena' en cada momento:"
   ]
  },
  {
   "cell_type": "code",
   "execution_count": 10,
   "metadata": {},
   "outputs": [
    {
     "name": "stdout",
     "output_type": "stream",
     "text": [
      "<class 'int'>\n",
      "<class 'float'>\n",
      "<class 'bool'>\n",
      "<class 'str'>\n",
      "<class 'bool'>\n",
      "<class 'str'>\n",
      "<class 'int'>\n",
      "<class 'float'>\n"
     ]
    }
   ],
   "source": [
    "print(type(a))\n",
    "print(type(b))\n",
    "print(type(c))\n",
    "print(type(d))\n",
    "\n",
    "a = False\n",
    "b = \"cadena\"\n",
    "c = 5\n",
    "d = 3.2\n",
    "\n",
    "print(type(a))\n",
    "print(type(b))\n",
    "print(type(c))\n",
    "print(type(d))"
   ]
  },
  {
   "cell_type": "markdown",
   "metadata": {},
   "source": [
    "# Operadores"
   ]
  },
  {
   "cell_type": "markdown",
   "metadata": {},
   "source": [
    "## Aritméticos"
   ]
  },
  {
   "cell_type": "markdown",
   "metadata": {},
   "source": [
    "| Símbolo | Operación |\n",
    "|----|---|\n",
    "| +  | Suma |\n",
    "| -  | Resta |\n",
    "| /  | Division |\n",
    "| %  | Resto |\n",
    "| *  | Multiplicación |\n",
    "| //  | División entera |\n",
    "| **  | Potencia |"
   ]
  },
  {
   "cell_type": "code",
   "execution_count": 5,
   "metadata": {},
   "outputs": [
    {
     "name": "stdout",
     "output_type": "stream",
     "text": [
      "30 10 20 0.75 0 5\n"
     ]
    }
   ],
   "source": [
    "x1 = 10 + 20\n",
    "x2 = 20 - 10\n",
    "x3 = 5 * 4\n",
    "x4 = 3 / 4\n",
    "x5 = 3 // 4 #redondeo al menor entero\n",
    "x6 = 15 % 10\n",
    "\n",
    "print(x1,x2, x3, x4, x5, x6)"
   ]
  },
  {
   "cell_type": "markdown",
   "metadata": {},
   "source": [
    "## Comparadores"
   ]
  },
  {
   "cell_type": "markdown",
   "metadata": {},
   "source": [
    "Este tipo de operador permite formar expresiones que comparan valores y que siempre se evalúan como `True` o `False`"
   ]
  },
  {
   "cell_type": "markdown",
   "metadata": {},
   "source": [
    "| Símbolo | Operación |\n",
    "|----|---|\n",
    "| == | igual a |\n",
    "| !=  | distinto a |\n",
    "| < | menor que |\n",
    "| > | mayor que |\n",
    "| <=  | menor o igual que |\n",
    "| >=  | mayor o igual que |\n"
   ]
  },
  {
   "cell_type": "code",
   "execution_count": 6,
   "metadata": {},
   "outputs": [
    {
     "data": {
      "text/plain": [
       "True"
      ]
     },
     "execution_count": 6,
     "metadata": {},
     "output_type": "execute_result"
    }
   ],
   "source": [
    "x = 1\n",
    "x == 1"
   ]
  },
  {
   "cell_type": "code",
   "execution_count": 7,
   "metadata": {},
   "outputs": [
    {
     "data": {
      "text/plain": [
       "False"
      ]
     },
     "execution_count": 7,
     "metadata": {},
     "output_type": "execute_result"
    }
   ],
   "source": [
    "x > 2"
   ]
  },
  {
   "cell_type": "markdown",
   "metadata": {},
   "source": [
    "Es posible encadenar operadores de la siguiente forma:"
   ]
  },
  {
   "cell_type": "code",
   "execution_count": 8,
   "metadata": {},
   "outputs": [
    {
     "data": {
      "text/plain": [
       "True"
      ]
     },
     "execution_count": 8,
     "metadata": {},
     "output_type": "execute_result"
    }
   ],
   "source": [
    "0.5 < x <= 1"
   ]
  },
  {
   "cell_type": "markdown",
   "metadata": {},
   "source": [
    "## Lógicos"
   ]
  },
  {
   "cell_type": "markdown",
   "metadata": {},
   "source": [
    "| Símbolo | Operación |\n",
    "|----|---|\n",
    "| and | && |\n",
    "| or  | or lógica |\n",
    "| not | ! |"
   ]
  },
  {
   "cell_type": "code",
   "execution_count": 9,
   "metadata": {},
   "outputs": [
    {
     "data": {
      "text/plain": [
       "True"
      ]
     },
     "execution_count": 9,
     "metadata": {},
     "output_type": "execute_result"
    }
   ],
   "source": [
    "a = 2 \n",
    "b = 3 \n",
    "a == 10 or b == 3"
   ]
  },
  {
   "cell_type": "code",
   "execution_count": 10,
   "metadata": {},
   "outputs": [
    {
     "data": {
      "text/plain": [
       "True"
      ]
     },
     "execution_count": 10,
     "metadata": {},
     "output_type": "execute_result"
    }
   ],
   "source": [
    "not a == 10 and b == 3"
   ]
  },
  {
   "cell_type": "markdown",
   "metadata": {},
   "source": [
    "# Control de flujo de ejecución\n",
    "Un aspecto clave de la estructura de un programa en Python es que utiliza la indentación para definir bloques de código (estos no se definen con llaves {} como en otros lenguajes de programación). \n",
    "\n",
    "De esta manera, el número de espacios o tabuladores al comienzo de cada linea determina al bloque de código al que pertenece cada sentencia.\n",
    "\n",
    "A continuación se resumen los principales métodos de los que dispone Python para controlar el flujo de ejecución de un programa.\n"
   ]
  },
  {
   "cell_type": "markdown",
   "metadata": {},
   "source": [
    "## Condicionales\n",
    "\n",
    "### If"
   ]
  },
  {
   "cell_type": "markdown",
   "metadata": {},
   "source": [
    "Permite ejecutar un bloque de código si una condición se cumple (se evalúa como True)"
   ]
  },
  {
   "cell_type": "code",
   "execution_count": 11,
   "metadata": {},
   "outputs": [
    {
     "name": "stdout",
     "output_type": "stream",
     "text": [
      "50 es menor que 100\n"
     ]
    }
   ],
   "source": [
    "x = 50\n",
    "if x < 100:\n",
    "    print(str(x) + \" es menor que \" + str(100))"
   ]
  },
  {
   "cell_type": "markdown",
   "metadata": {},
   "source": [
    "### If-else"
   ]
  },
  {
   "cell_type": "markdown",
   "metadata": {},
   "source": [
    "Ejecuta un bloque de código si una condición se evalúa como True, otro bloque en caso contrario"
   ]
  },
  {
   "cell_type": "code",
   "execution_count": 12,
   "metadata": {},
   "outputs": [
    {
     "name": "stdout",
     "output_type": "stream",
     "text": [
      "5 no está dentro del intervalo\n"
     ]
    }
   ],
   "source": [
    "x = 5\n",
    "if 10 < x < 200:\n",
    "    print(str(x) + \" dentro del intervalo\")\n",
    "else:\n",
    "    print(str(x) + \" no está dentro del intervalo\")"
   ]
  },
  {
   "cell_type": "markdown",
   "metadata": {},
   "source": [
    "### Else if"
   ]
  },
  {
   "cell_type": "markdown",
   "metadata": {},
   "source": [
    "Añade condiciones adicionales a un if. Se ejecutara el primer bloque de código en que la condición se evalúe como cierta. En caso de que ninguna se cumpla se ejecutará el bloque de código del `else`"
   ]
  },
  {
   "cell_type": "code",
   "execution_count": 13,
   "metadata": {},
   "outputs": [
    {
     "name": "stdout",
     "output_type": "stream",
     "text": [
      "x<y\n"
     ]
    }
   ],
   "source": [
    "x = 10\n",
    "y = 20\n",
    "if x > y:\n",
    "    print(\"x>y\")\n",
    "elif x < y:\n",
    "    print(\"x<y\")\n",
    "else:\n",
    "    print(\"x=y\")"
   ]
  },
  {
   "cell_type": "markdown",
   "metadata": {},
   "source": [
    "Los bloques `if` pueden anidarse de manera indefinida."
   ]
  },
  {
   "cell_type": "code",
   "execution_count": 14,
   "metadata": {},
   "outputs": [
    {
     "name": "stdout",
     "output_type": "stream",
     "text": [
      "x<y\n",
      "x=10\n"
     ]
    }
   ],
   "source": [
    "x = 10\n",
    "y = 20\n",
    "if x > y:\n",
    "    print( \"x>y\")\n",
    "elif x < y:\n",
    "    print( \"x<y\")\n",
    "    if x==10:\n",
    "        print (\"x=10\")\n",
    "else:\n",
    "    print (\"x=y\")"
   ]
  },
  {
   "cell_type": "markdown",
   "metadata": {},
   "source": [
    "## Bucles"
   ]
  },
  {
   "cell_type": "markdown",
   "metadata": {},
   "source": [
    "Un bucle permite realizar una operación o bloque de código un número determinado de veces."
   ]
  },
  {
   "cell_type": "markdown",
   "metadata": {},
   "source": [
    "### For"
   ]
  },
  {
   "cell_type": "code",
   "execution_count": 15,
   "metadata": {},
   "outputs": [
    {
     "name": "stdout",
     "output_type": "stream",
     "text": [
      "0\n",
      "1\n",
      "2\n",
      "3\n",
      "4\n",
      "5\n",
      "6\n",
      "7\n",
      "8\n",
      "9\n"
     ]
    }
   ],
   "source": [
    "for number in range(10):\n",
    "    print(number)"
   ]
  },
  {
   "cell_type": "markdown",
   "metadata": {},
   "source": [
    "En el caso anterior el bloque de código se aplica para cada uno de los elementos del array (vector) generado por la función ``range(10)``"
   ]
  },
  {
   "cell_type": "markdown",
   "metadata": {},
   "source": [
    "Es posible crear bucles anidados para, por ejemplo, recorrer una matriz de elementos."
   ]
  },
  {
   "cell_type": "code",
   "execution_count": 16,
   "metadata": {},
   "outputs": [
    {
     "name": "stdout",
     "output_type": "stream",
     "text": [
      "45\n"
     ]
    }
   ],
   "source": [
    "list_of_lists = [[1, 2, 3], [4, 5, 6], [7, 8, 9]]\n",
    "total=0\n",
    "for list1 in list_of_lists:\n",
    "    for x in list1:\n",
    "        total = total+x\n",
    "print(total)"
   ]
  },
  {
   "cell_type": "markdown",
   "metadata": {},
   "source": [
    "### While"
   ]
  },
  {
   "cell_type": "markdown",
   "metadata": {},
   "source": [
    "Ejecuta un bloque de código mientras una condición sea cierta."
   ]
  },
  {
   "cell_type": "code",
   "execution_count": 17,
   "metadata": {},
   "outputs": [
    {
     "name": "stdout",
     "output_type": "stream",
     "text": [
      "0\n",
      "1\n",
      "2\n",
      "3\n",
      "4\n",
      "5\n",
      "6\n",
      "7\n",
      "8\n",
      "9\n",
      "Fin\n"
     ]
    }
   ],
   "source": [
    "i = 0\n",
    "while i < 10:\n",
    "    print(i)\n",
    "    i = i+1\n",
    "print('Fin')"
   ]
  },
  {
   "cell_type": "markdown",
   "metadata": {},
   "source": [
    "### Break"
   ]
  },
  {
   "cell_type": "markdown",
   "metadata": {},
   "source": [
    "Permite detener la ejecución de un bucle si una condición se cumple."
   ]
  },
  {
   "cell_type": "code",
   "execution_count": 18,
   "metadata": {},
   "outputs": [
    {
     "name": "stdout",
     "output_type": "stream",
     "text": [
      "0\n",
      "1\n",
      "2\n",
      "3\n",
      "4\n",
      "5\n",
      "6\n",
      "7\n"
     ]
    }
   ],
   "source": [
    "for i in range(100):\n",
    "    print(i)\n",
    "    if i>=7:\n",
    "        break"
   ]
  },
  {
   "cell_type": "markdown",
   "metadata": {},
   "source": [
    "### Continue"
   ]
  },
  {
   "cell_type": "markdown",
   "metadata": {},
   "source": [
    "Procede a ejecutar la próxima iteración del bucle, ignorando el resto de sentencias en la iteración actual."
   ]
  },
  {
   "cell_type": "code",
   "execution_count": 19,
   "metadata": {},
   "outputs": [
    {
     "name": "stdout",
     "output_type": "stream",
     "text": [
      "Procesada 0\n",
      "Procesada 1\n",
      "Procesada 2\n",
      "Procesada 3\n",
      "Procesada 4\n",
      "Ignorada: 5\n",
      "Ignorada: 6\n",
      "Ignorada: 7\n",
      "Ignorada: 8\n",
      "Ignorada: 9\n"
     ]
    }
   ],
   "source": [
    "for i in range(10):\n",
    "    if i>4:\n",
    "        print(\"Ignorada:\",i)\n",
    "        continue\n",
    "    print(\"Procesada\",i)"
   ]
  },
  {
   "cell_type": "markdown",
   "metadata": {},
   "source": [
    "# Funciones"
   ]
  },
  {
   "cell_type": "markdown",
   "metadata": {},
   "source": [
    "Las funciones permiten definir bloques de código reutilizables que cumplen una tarea concreta. Las funciones pueden recibir ciertos parámetros de entrada y retornar uno o varios valores de manera opcional.\n",
    "\n",
    "La sintaxis básica de una función en Python es la siguiente.\n",
    "\n",
    "```python\n",
    "def nombre_funcion(argumento1, argumento2,... argumentoN):\n",
    "    ''' documentacion'''\n",
    "    statements\n",
    "    return <value>```\n",
    "\n",
    "En celdas anteriores hemos utilizado funciones ya definidas en Python, como la función `print`:\n"
   ]
  },
  {
   "cell_type": "code",
   "execution_count": 20,
   "metadata": {},
   "outputs": [
    {
     "name": "stdout",
     "output_type": "stream",
     "text": [
      "Hola, Pedro.\n",
      "¿Qué tal?\n"
     ]
    }
   ],
   "source": [
    "print(\"Hola, Pedro.\")\n",
    "print(\"¿Qué tal?\")"
   ]
  },
  {
   "cell_type": "markdown",
   "metadata": {},
   "source": [
    "Se podría definir una función que salude a una persona con nombre específico con la siguiente función:"
   ]
  },
  {
   "cell_type": "code",
   "execution_count": 21,
   "metadata": {},
   "outputs": [
    {
     "name": "stdout",
     "output_type": "stream",
     "text": [
      "Hola Pedro.\n",
      "¿Qué tal, Pedro?\n",
      "Hola Juan.\n",
      "¿Qué tal, Juan?\n"
     ]
    }
   ],
   "source": [
    "def saludo(nombre):\n",
    "    print(\"Hola \" + nombre + \".\")\n",
    "    print(\"¿Qué tal, \" + nombre + \"?\")\n",
    "\n",
    "saludo(\"Pedro\")\n",
    "saludo(\"Juan\")"
   ]
  },
  {
   "cell_type": "markdown",
   "metadata": {},
   "source": [
    "La función **saludo()** toma como ``argumento`` el nombre de la persona a saludar. Cada vez que se quisiera repetir esta funcionalidad no sería necesario repetir las dos sentencias ``print()`` puesto que podríamos utilizar la misma función. Esto nos permitiría, a su vez, cambiar el funcionamiento de la función, lo que afectaría a todas las llamadas a la función.\n",
    "\n",
    "El argumento puede ser a su vez determminado dinámicamente en el flujo de ejecución del programa, como podemos comprobar en el siguiente fragmento de código:"
   ]
  },
  {
   "cell_type": "code",
   "execution_count": 22,
   "metadata": {},
   "outputs": [
    {
     "name": "stdout",
     "output_type": "stream",
     "text": [
      "Hola Pedro.\n",
      "¿Qué tal, Pedro?\n",
      "Hola Laura.\n",
      "¿Qué tal, Laura?\n",
      "Hola Laura.\n",
      "¿Qué tal, Laura?\n",
      "Hola Juan.\n",
      "¿Qué tal, Juan?\n",
      "Hola Laura.\n",
      "¿Qué tal, Laura?\n"
     ]
    }
   ],
   "source": [
    "from random import choice\n",
    "names = [\"Pedro\", \"María\", \"Juan\", \"Luis\", \"Laura\"]\n",
    "\n",
    "for i in range(5):\n",
    "    nombre = choice(names)\n",
    "    saludo(nombre)"
   ]
  },
  {
   "cell_type": "markdown",
   "metadata": {},
   "source": [
    "## Retorno de la función"
   ]
  },
  {
   "cell_type": "markdown",
   "metadata": {},
   "source": [
    "Cuando la función definida genera algún valor que es necesario devolver al flujo de ejecución principal, se utiliza una sentencia de retorno mediante la palabra reservada `return`."
   ]
  },
  {
   "cell_type": "code",
   "execution_count": 23,
   "metadata": {},
   "outputs": [
    {
     "name": "stdout",
     "output_type": "stream",
     "text": [
      "81\n",
      "8\n"
     ]
    }
   ],
   "source": [
    "def potencia(x,y):\n",
    "    total = 1\n",
    "    for _ in range(y):\n",
    "        total = total*x\n",
    "    return total\n",
    "\n",
    "res = potencia(3,4)\n",
    "print(res)\n",
    "\n",
    "res = potencia(2,3)\n",
    "print(res)"
   ]
  },
  {
   "cell_type": "markdown",
   "metadata": {},
   "source": [
    "La función anterior recibe dos argumentos y retorna el resultado de la potencia de ambos (x^y).\n",
    "\n",
    ">NOTA: Aunque el cálculo de la potencia en la función anterior se calcula manualmente, se podría utilizar la función `pow(x,y)` de las librerías del sistema."
   ]
  },
  {
   "cell_type": "markdown",
   "metadata": {},
   "source": [
    "Es posible devolver múltiples variables en una misma sentencia de retorno utilizando tuplas (arrays de tamaño fijo)."
   ]
  },
  {
   "cell_type": "code",
   "execution_count": 24,
   "metadata": {},
   "outputs": [],
   "source": [
    "values = [10,50,30,12,6,8,100]\n",
    "def estadisticas(valores):\n",
    "    highest = max(valores)\n",
    "    lowest = min(valores)\n",
    "    first = valores[0]\n",
    "    last = valores[-1]\n",
    "    return highest,lowest,first,last\n"
   ]
  },
  {
   "cell_type": "markdown",
   "metadata": {},
   "source": [
    "Si la función es invocada  y su resultado es asignado a una única (o ninguna) variable, el resultado se devuelve como tupla. Si por el contrario, se asigna el resultado a un número de variables igual a los valores retornados, estos serán asignados en el orden definido en la sentencia de retorno."
   ]
  },
  {
   "cell_type": "code",
   "execution_count": 25,
   "metadata": {},
   "outputs": [
    {
     "name": "stdout",
     "output_type": "stream",
     "text": [
      "<class 'tuple'>\n"
     ]
    },
    {
     "data": {
      "text/plain": [
       "(100, 6, 10, 100)"
      ]
     },
     "execution_count": 25,
     "metadata": {},
     "output_type": "execute_result"
    }
   ],
   "source": [
    "res = estadisticas(values)\n",
    "print(type(res))\n",
    "res"
   ]
  },
  {
   "cell_type": "code",
   "execution_count": 26,
   "metadata": {},
   "outputs": [
    {
     "name": "stdout",
     "output_type": "stream",
     "text": [
      " a = 100  b = 6  c = 10  d = 100\n"
     ]
    }
   ],
   "source": [
    "a,b,c,d = estadisticas(values)\n",
    "print(' a =',a,' b =',b,' c =',c,' d =',d)"
   ]
  },
  {
   "cell_type": "markdown",
   "metadata": {},
   "source": [
    "## Argumentos por defecto"
   ]
  },
  {
   "cell_type": "markdown",
   "metadata": {},
   "source": [
    "Cuando un argumento de una función no suele cambiar en la mayoría de casos, es posible especificar un valor por defecto, también llamado argumento implicito."
   ]
  },
  {
   "cell_type": "code",
   "execution_count": 27,
   "metadata": {},
   "outputs": [],
   "source": [
    "def mult_sum(x,y=10,z=0):\n",
    "    res = x*y+z\n",
    "    print(\"%d * %d + %d = %d\"%(x,y,z, res))\n",
    "    return res"
   ]
  },
  {
   "cell_type": "markdown",
   "metadata": {},
   "source": [
    "**mult_sum( )** es una función que multiplica sus dos primeros argumentos y le suma un tercero. Su lógica define que normalmente el primer argumento siempre se multiplica por 10. De esta manera, el segundo argumento tiene un valor por defecto de 10 y el tercer argumento es 0."
   ]
  },
  {
   "cell_type": "markdown",
   "metadata": {},
   "source": [
    "Si se invoca la función con un único argumento, el resto toman los valores por defecto."
   ]
  },
  {
   "cell_type": "code",
   "execution_count": 28,
   "metadata": {},
   "outputs": [
    {
     "name": "stdout",
     "output_type": "stream",
     "text": [
      "50 * 10 + 0 = 500\n"
     ]
    },
    {
     "data": {
      "text/plain": [
       "500"
      ]
     },
     "execution_count": 28,
     "metadata": {},
     "output_type": "execute_result"
    }
   ],
   "source": [
    "mult_sum(50)"
   ]
  },
  {
   "cell_type": "markdown",
   "metadata": {},
   "source": [
    "Sigue siendo posible invocar a la función con dos o tres argumentos si queremos sobreescribir los valores utilizados por defecto. Es posible nombar explicitamente los argumentos de la función que queremos sustituir. Esto nos permite invocar la función con los siguientes argumentos."
   ]
  },
  {
   "cell_type": "code",
   "execution_count": 29,
   "metadata": {},
   "outputs": [
    {
     "name": "stdout",
     "output_type": "stream",
     "text": [
      "4 * 4 + 0 = 16\n",
      "4 * 5 + 6 = 26\n",
      "4 * 10 + 7 = 47\n",
      "2 * 1 + 9 = 11\n",
      "1 * 10 + 0 = 10\n"
     ]
    },
    {
     "data": {
      "text/plain": [
       "10"
      ]
     },
     "execution_count": 29,
     "metadata": {},
     "output_type": "execute_result"
    }
   ],
   "source": [
    "mult_sum(4,4)\n",
    "mult_sum(4,5,6)\n",
    "mult_sum(4,z=7)\n",
    "mult_sum(2,y=1,z=9)\n",
    "mult_sum(x=1)"
   ]
  },
  {
   "cell_type": "markdown",
   "metadata": {},
   "source": [
    "# Clases"
   ]
  },
  {
   "cell_type": "markdown",
   "metadata": {},
   "source": [
    "Las variables, listas y diccionarios en Python son objetos. Aunque no se entrará en detalle en la teoría de la programación orientada a objetos, se mostrará la sintaxis básica de clases y la instanciación de las mismas."
   ]
  },
  {
   "cell_type": "markdown",
   "metadata": {},
   "source": [
    "Podemos declarar una clase con la siguiente sintaxis:"
   ]
  },
  {
   "cell_type": "code",
   "execution_count": 30,
   "metadata": {},
   "outputs": [],
   "source": [
    "class ClaseEjemplo:\n",
    "    \"Ejemplo de clase\"\n",
    "    pass"
   ]
  },
  {
   "cell_type": "markdown",
   "metadata": {},
   "source": [
    "La palabra reservada **pass** en Python significa no hacer nada. La cadena de texto contiene la documentación de la clase, que será mostrada si ejecutamos `help(ClaseEjemplo)`. Esta debería resumir la funcionalidad de la clase."
   ]
  },
  {
   "cell_type": "code",
   "execution_count": 31,
   "metadata": {},
   "outputs": [
    {
     "name": "stdout",
     "output_type": "stream",
     "text": [
      "Help on class ClaseEjemplo in module __main__:\n",
      "\n",
      "class ClaseEjemplo(builtins.object)\n",
      " |  Ejemplo de clase\n",
      " |  \n",
      " |  Data descriptors defined here:\n",
      " |  \n",
      " |  __dict__\n",
      " |      dictionary for instance variables (if defined)\n",
      " |  \n",
      " |  __weakref__\n",
      " |      list of weak references to the object (if defined)\n",
      "\n"
     ]
    }
   ],
   "source": [
    "help(ClaseEjemplo)"
   ]
  },
  {
   "cell_type": "markdown",
   "metadata": {},
   "source": [
    "La definición de la clase anterior genera un objeto \"ClaseEjemplo\". A partir de este objeto, podremos crear múltiples variables que compartan las características de \"ClaseEjemplo\", como por ejemplo sus métodos y atributos. De esta manera, podremos definir una nueva variable \"ejemplo1\" a partir de la clase \"ClaseEjemplo\". En terminología de Python, esto se denomina crear una instancia.\n"
   ]
  },
  {
   "cell_type": "code",
   "execution_count": 32,
   "metadata": {},
   "outputs": [],
   "source": [
    "ejemplo1 = ClaseEjemplo()"
   ]
  },
  {
   "cell_type": "code",
   "execution_count": 33,
   "metadata": {},
   "outputs": [
    {
     "data": {
      "text/plain": [
       "__main__.ClaseEjemplo"
      ]
     },
     "execution_count": 33,
     "metadata": {},
     "output_type": "execute_result"
    }
   ],
   "source": [
    "type(ejemplo1)"
   ]
  },
  {
   "cell_type": "code",
   "execution_count": 34,
   "metadata": {},
   "outputs": [
    {
     "data": {
      "text/plain": [
       "type"
      ]
     },
     "execution_count": 34,
     "metadata": {},
     "output_type": "execute_result"
    }
   ],
   "source": [
    "type(ClaseEjemplo)"
   ]
  },
  {
   "cell_type": "markdown",
   "metadata": {},
   "source": [
    "Los objetos o instancias de una clase pueden almacenar datos. Una variable dentro de un objeto normalmente se denomina atributo. Para acceder a un atributo de una variable se utiliza la notación `objeto.atributo`"
   ]
  },
  {
   "cell_type": "code",
   "execution_count": 35,
   "metadata": {},
   "outputs": [
    {
     "name": "stdout",
     "output_type": "stream",
     "text": [
      "x en objeto 1 = 5 x en objeto 2 = 6 x global = 7\n"
     ]
    }
   ],
   "source": [
    "ej1 = ClaseEjemplo()\n",
    "ej2 = ClaseEjemplo()\n",
    "ej1.x = 5\n",
    "ej2.x = 6\n",
    "x = 7\n",
    "print(\"x en objeto 1 =\",ej1.x,\"x en objeto 2 =\",ej2.x,\"x global =\",x)"
   ]
  },
  {
   "cell_type": "markdown",
   "metadata": {},
   "source": [
    "Ahora añadiremos funcionalidad a una clase. Una función definida dentro de una clase se denomina ``método``"
   ]
  },
  {
   "cell_type": "code",
   "execution_count": 36,
   "metadata": {},
   "outputs": [
    {
     "name": "stdout",
     "output_type": "stream",
     "text": [
      "1\n",
      "2\n",
      "3\n",
      "1\n"
     ]
    }
   ],
   "source": [
    "class Contador:\n",
    "    def reset(self,init=0):\n",
    "        self.count = init\n",
    "    def total(self):\n",
    "        self.count += 1\n",
    "        return self.count\n",
    "    \n",
    "contador = Contador()\n",
    "contador.reset(0)\n",
    "contador2 = Contador()\n",
    "contador2.reset(0)\n",
    "print(contador.total())\n",
    "print(contador.total())\n",
    "print(contador.total())\n",
    "print(contador2.total())"
   ]
  },
  {
   "cell_type": "markdown",
   "metadata": {},
   "source": [
    "Tanto el método `reset()` como `getCount()` son invocados con un argumento menos de los que han sido declarados. El argument `self` es inicializado por Python y se corresponde con el objeto que llama al método (en el caso anterior `contador` y `contador2`). Por ejemplo, `contador.reset(0)` es equivalente a `Contador.reset(contador,0)`.\n",
    "\n",
    "Es posible inicializar los objetos Contador inmediatamente con un valor definido por el usuario y evitar la necesidad de llamar a reset(). Esto es posible mediante un constructor de una clase, definido con el nombre`__init__`:"
   ]
  },
  {
   "cell_type": "code",
   "execution_count": 37,
   "metadata": {},
   "outputs": [
    {
     "name": "stdout",
     "output_type": "stream",
     "text": [
      "11\n",
      "24\n"
     ]
    }
   ],
   "source": [
    "class Contador:\n",
    "    def __init__(self,valor):\n",
    "        self.count = valor\n",
    "        \n",
    "    def total(self):\n",
    "        self.count += 1\n",
    "        return self.count\n",
    "\n",
    "contador = Contador(10)\n",
    "contador2 = Contador(23)\n",
    "print(contador.total())\n",
    "print(contador2.total())"
   ]
  },
  {
   "cell_type": "markdown",
   "metadata": {},
   "source": [
    "## Herencia"
   ]
  },
  {
   "cell_type": "markdown",
   "metadata": {},
   "source": [
    "Pueden existir casos en que una nueva clase tenga todas las características (métodos, atributos) de otra clase definida previamente. De esta manera la nueva clase \"hereda\" los atributos de la clase previa. Esta propiedad se denomina herencia."
   ]
  },
  {
   "cell_type": "markdown",
   "metadata": {},
   "source": [
    "Considerar la clase Ingeniero, que define un método \"salario\""
   ]
  },
  {
   "cell_type": "code",
   "execution_count": 38,
   "metadata": {},
   "outputs": [],
   "source": [
    "class Ingeniero:\n",
    "    def __init__(self,nombre, edad):\n",
    "        self.nombre = nombre\n",
    "        self.edad =edad\n",
    "    def salario(self, valor):\n",
    "        self.dinero = valor\n",
    "        print(\"El salario bruto de \" + self.nombre + \" es \" + str(self.dinero))"
   ]
  },
  {
   "cell_type": "code",
   "execution_count": 39,
   "metadata": {},
   "outputs": [],
   "source": [
    "a = Ingeniero('Juan',26)"
   ]
  },
  {
   "cell_type": "code",
   "execution_count": 40,
   "metadata": {},
   "outputs": [
    {
     "name": "stdout",
     "output_type": "stream",
     "text": [
      "El salario bruto de Juan es 25000\n"
     ]
    }
   ],
   "source": [
    "a.salario(25000)"
   ]
  },
  {
   "cell_type": "markdown",
   "metadata": {},
   "source": [
    "Podríamos crear una nueva clase Medico que permite definir tanto su salario como su área de trabajo."
   ]
  },
  {
   "cell_type": "code",
   "execution_count": 41,
   "metadata": {},
   "outputs": [],
   "source": [
    "class Medico:\n",
    "    def __init__(self,nombre, edad):\n",
    "        self.nombre = nombre\n",
    "        self.edad =edad\n",
    "    def salario(self, valor):\n",
    "        self.dinero = valor\n",
    "        print(\"El salario bruto de \" + self.nombre + \" es \" + str(self.dinero))\n",
    "    def area(self, area):\n",
    "        self.area = area\n",
    "        print(self.nombre,\" trabaja en el área de \", self.area)"
   ]
  },
  {
   "cell_type": "code",
   "execution_count": 42,
   "metadata": {},
   "outputs": [],
   "source": [
    "b = Medico('Laura',28)"
   ]
  },
  {
   "cell_type": "code",
   "execution_count": 43,
   "metadata": {},
   "outputs": [
    {
     "name": "stdout",
     "output_type": "stream",
     "text": [
      "El salario bruto de Laura es 30000\n",
      "Laura  trabaja en el área de  Ginecología\n"
     ]
    }
   ],
   "source": [
    "b.salario(30000)\n",
    "b.area('Ginecología')"
   ]
  },
  {
   "cell_type": "markdown",
   "metadata": {},
   "source": [
    "Tanto los métodos ``salario`` como los atributos ``nombre`` y ``edad`` de cada clase cumplen la misma funcionalidad. Por lo tanto, es posible definir una tercera clase ``Trabajador`` que defina estas características comunes.\n"
   ]
  },
  {
   "cell_type": "code",
   "execution_count": 44,
   "metadata": {},
   "outputs": [],
   "source": [
    "class Trabajador:\n",
    "    def __init__(self,nombre, edad):\n",
    "        self.nombre = nombre\n",
    "        self.edad =edad\n",
    "    def salario(self, valor):\n",
    "        self.dinero = valor\n",
    "        print(\"El salario bruto de \" + self.nombre + \" es \" + str(self.dinero))\n",
    "        \n",
    "class Medico(Trabajador):\n",
    "    def area(self, area):\n",
    "        self.area = area\n",
    "        print(self.nombre,\" trabaja en el área de \", self.area)"
   ]
  },
  {
   "cell_type": "code",
   "execution_count": 45,
   "metadata": {},
   "outputs": [],
   "source": [
    "b = Medico('Laura',28)"
   ]
  },
  {
   "cell_type": "code",
   "execution_count": 46,
   "metadata": {},
   "outputs": [
    {
     "data": {
      "text/plain": [
       "['__class__',\n",
       " '__delattr__',\n",
       " '__dict__',\n",
       " '__dir__',\n",
       " '__doc__',\n",
       " '__eq__',\n",
       " '__format__',\n",
       " '__ge__',\n",
       " '__getattribute__',\n",
       " '__gt__',\n",
       " '__hash__',\n",
       " '__init__',\n",
       " '__init_subclass__',\n",
       " '__le__',\n",
       " '__lt__',\n",
       " '__module__',\n",
       " '__ne__',\n",
       " '__new__',\n",
       " '__reduce__',\n",
       " '__reduce_ex__',\n",
       " '__repr__',\n",
       " '__setattr__',\n",
       " '__sizeof__',\n",
       " '__str__',\n",
       " '__subclasshook__',\n",
       " '__weakref__',\n",
       " 'area',\n",
       " 'salario']"
      ]
     },
     "execution_count": 46,
     "metadata": {},
     "output_type": "execute_result"
    }
   ],
   "source": [
    "dir(Medico)"
   ]
  }
 ],
 "metadata": {
  "kernelspec": {
   "display_name": "Python 3",
   "language": "python",
   "name": "python3"
  },
  "language_info": {
   "codemirror_mode": {
    "name": "ipython",
    "version": 3
   },
   "file_extension": ".py",
   "mimetype": "text/x-python",
   "name": "python",
   "nbconvert_exporter": "python",
   "pygments_lexer": "ipython3",
   "version": "3.6.8"
  }
 },
 "nbformat": 4,
 "nbformat_minor": 1
}
