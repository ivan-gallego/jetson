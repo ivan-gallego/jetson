{
 "cells": [
  {
   "cell_type": "markdown",
   "metadata": {},
   "source": [
    "# Movimiento JetBot\n",
    "\n",
    "Este documento cubre los aspectos básicos relativos al movimiento del JetBot.\n",
    "\n",
    "### Importar clase Robot\n",
    "\n",
    "Para interactuar con el JetBot y programar su funcionamiento, debemos importar la clase ``Robot``. Esta clase proporciona una interfaz de alto nivel para controlar los motores del robot. La clase ``Robot`` se encuentra en el paquete ``jetbot``\n",
    "\n",
    "> Un *paquete* en Python puede interpretarse como un directorio con un conjunto de ficheros con utilidades que pueden utilizarse en el código del usuario una vez importadas. Los ficheros contenidos en un paquete se conocen como *módulos*\n",
    "\n",
    "Para importar la clase ``Robot``, seleccionar la celda siguiente y pulsar ``ctrl + enter`` o el botón ``play``. Esto ejecutará el código de la celda.\n"
   ]
  },
  {
   "cell_type": "code",
   "execution_count": null,
   "metadata": {},
   "outputs": [],
   "source": [
    "from jetbot import Robot"
   ]
  },
  {
   "cell_type": "markdown",
   "metadata": {},
   "source": [
    "Una vez importada, debemos inicializar una *instancia* de la clase ``Robot``. El siguiente comando crea una variable de nombre ``robot`` a partir del constructor por defecto de la clase ``Robot``."
   ]
  },
  {
   "cell_type": "code",
   "execution_count": null,
   "metadata": {},
   "outputs": [],
   "source": [
    "robot = Robot()"
   ]
  },
  {
   "cell_type": "markdown",
   "metadata": {},
   "source": [
    "### Control del robot"
   ]
  },
  {
   "cell_type": "markdown",
   "metadata": {},
   "source": [
    "Podemos utilizar la variable \"robot\" creada anteriormente  para controlar al robot. Para ordenar al robot que gire en dirección antihoraria a un 30% de su velocidad máxima, podemos ejecutar el siguiente comando:\n",
    "\n",
    "> OJO: El siguiente comando ordena al robot que se mueva. Asegurarse de que tiene espacio y no está en peligro de caidas."
   ]
  },
  {
   "cell_type": "code",
   "execution_count": null,
   "metadata": {},
   "outputs": [],
   "source": [
    "robot.left(speed=0.3)"
   ]
  },
  {
   "cell_type": "markdown",
   "metadata": {},
   "source": [
    "Para detener al robot, se puede llamar al método ``stop``"
   ]
  },
  {
   "cell_type": "code",
   "execution_count": null,
   "metadata": {},
   "outputs": [],
   "source": [
    "robot.stop()"
   ]
  },
  {
   "cell_type": "markdown",
   "metadata": {},
   "source": [
    "Si quisieramos programar el robot de manera que gire un periodo limitado de tiempo, podríamos utilizar el paquete ``time`` de Python."
   ]
  },
  {
   "cell_type": "code",
   "execution_count": null,
   "metadata": {},
   "outputs": [],
   "source": [
    "import time"
   ]
  },
  {
   "cell_type": "markdown",
   "metadata": {},
   "source": [
    "Este paquete contiene la función ``sleep``, que permite detener la ejecución de código durante un número de segundos definido por el usuario, antes de proseguir con el siguiente comando. A continuación, se demuestra como conseguir que el robot gire hacia la izquierda durante medio segundo."
   ]
  },
  {
   "cell_type": "code",
   "execution_count": null,
   "metadata": {},
   "outputs": [],
   "source": [
    "robot.left(0.3)\n",
    "time.sleep(0.5)\n",
    "robot.stop()"
   ]
  },
  {
   "cell_type": "markdown",
   "metadata": {},
   "source": [
    "El JetBot debería girar hacia la izquierda y detenerse al medio segundo.\n",
    "\n",
    "> En este caso, no se ha definido explicitamente el parámetro ``speed=`` en la invocación del método ``left``. Python permite definir parámetros de una función especificando su nombre o a partir del orden en que estos han sido definidos.\n",
    "\n",
    "La clase ``Robot`` define otros métodos para controlar el JetBot, como ``right``, ``forward`` y ``backwards``. De esta manera podríamos implementar un comportamiento que hiciera que el JetBot avance a un 50% de velocidad durante 2s, gire hacia la derecha durante 3s y retroceda durante 2s. \n",
    "\n",
    "Para crear una nueva celda en el cuaderno actual podemos seleccionar la celda previa y pulsar ``b`` o el botón ``+`` de la parte superior. Una vez creada la celda, añade el código necesario para que el JetBot realice el movimiento definido anteriormente."
   ]
  },
  {
   "cell_type": "code",
   "execution_count": null,
   "metadata": {},
   "outputs": [],
   "source": []
  },
  {
   "cell_type": "markdown",
   "metadata": {},
   "source": [
    "### Control individual de motores\n",
    "\n",
    "En celdas anteriores se demostró como es posible controlar al JetBot con funciones como ``left`` y ``right``. A continuación, se mostrarán métodos alternativos para controlar la velocidad de cada motor de manera independiente.\n",
    "\n",
    "La primera opción es invocar al método ``set_motors`` definido en la clase *Robot*. Para realizar un giro en arco hacia la izquierda durante un segundo podemos fijar el motor izquieerdo a un 30% de velocidad y el derecho a 60%."
   ]
  },
  {
   "cell_type": "code",
   "execution_count": null,
   "metadata": {},
   "outputs": [],
   "source": [
    "robot.set_motors(0.3, 0.6)\n",
    "time.sleep(1.0)\n",
    "robot.stop()"
   ]
  },
  {
   "cell_type": "markdown",
   "metadata": {},
   "source": [
    "El jetbot debería realizar un giro en arco hacia la izquierda. Existe una manera alternativa de realizar el mismo movimiento.\n",
    "\n",
    "La clase ``Robot`` tiene dos atributos llamados ``left_motor`` y ``right_motor`` que representa cada motor del Jetbot. Estos atributos son a su vez instancias de la clase ``Motor`` que exponen un atributo ``value``. Este atributo es un [traitlet](https://github.com/ipython/traitlets) que genera ``eventos`` cuando se les asigna un nuevo valor. En la práctica, esto permite ejecutar funciones predefinidas cada vez que el valor de este atributo cambia. En el caso de la clase ``Motor``, se le ha asignado una función que actualiza los comandos del motor cada vez que el valor de ``value`` cambia. \n",
    "\n",
    "De esta manera, para replicar el comportamiento de celdas anteriores, podemos ejecutar los siguientes comandos."
   ]
  },
  {
   "cell_type": "code",
   "execution_count": null,
   "metadata": {},
   "outputs": [],
   "source": [
    "robot.left_motor.value = 0.3\n",
    "robot.right_motor.value = 0.6\n",
    "time.sleep(1.0)\n",
    "robot.left_motor.value = 0.0\n",
    "robot.right_motor.value = 0.0"
   ]
  },
  {
   "cell_type": "markdown",
   "metadata": {},
   "source": [
    "El JetBot debería replicar el movimiento de celdas anteriores."
   ]
  },
  {
   "cell_type": "markdown",
   "metadata": {},
   "source": [
    "### Asignar elementos interfaz a motores"
   ]
  },
  {
   "cell_type": "markdown",
   "metadata": {},
   "source": [
    "Una funcionalidad interesante de los [traitlets](https://github.com/ipython/traitlets) es que es posible encadenar los eventos generados por los mismos. \n",
    "\n",
    "Esto nos permite definir componentes gráficos controlados desde el navegador (denominados ``widgets``) cuyo comportamiendo está asociado al traitlet de cada motor. De esta manera podemos visualizar el valor de cada uno de los traitlets y modificarlo en tiempo real.\n",
    "\n",
    "Para mostrar esta funcionalidad crearemos una interfaz con dos sliders que utilizaremos para controlar los motores.\n"
   ]
  },
  {
   "cell_type": "code",
   "execution_count": null,
   "metadata": {},
   "outputs": [],
   "source": [
    "import ipywidgets.widgets as widgets\n",
    "from IPython.display import display\n",
    "\n",
    "# crear dos sliders con rango [-1.0, 1.0]\n",
    "left_slider = widgets.FloatSlider(description='left', min=-1.0, max=1.0, step=0.01, orientation='vertical')\n",
    "right_slider = widgets.FloatSlider(description='right', min=-1.0, max=1.0, step=0.01, orientation='vertical')\n",
    "\n",
    "# crear un contenedor para posicionar los sliders\n",
    "slider_container = widgets.HBox([left_slider, right_slider])\n",
    "\n",
    "# mostrar el contenedor en la celda\n",
    "display(slider_container)"
   ]
  },
  {
   "cell_type": "markdown",
   "metadata": {},
   "source": [
    "En la celda anterior de se debería mostrar los sliders verticales.\n",
    "\n",
    "> HELPFUL TIP:  In Jupyter Lab, you can actually \"pop\" the output of cells into entirely separate window!  It will still be \n",
    "> connected to the notebook, but displayed separately.  This is helpful if we want to pin the output of code we executed elsewhere.\n",
    "> To do this, right click the output of the cell and select ``Create New View for Output``.  You can then drag the new window\n",
    "> to a location you find pleasing.\n",
    "\n",
    "Si desplazamos los sliders comprobaremos que el valor de cada slider no se transmite el JetBot. Eso es porque aún no hemos asociado cada slider con el traitlet de cada motor. Para ello, utilizaremos la función ``link`` del paquete traitlets."
   ]
  },
  {
   "cell_type": "code",
   "execution_count": null,
   "metadata": {},
   "outputs": [],
   "source": [
    "import traitlets\n",
    "\n",
    "left_link = traitlets.link((left_slider, 'value'), (robot.left_motor, 'value'))\n",
    "right_link = traitlets.link((right_slider, 'value'), (robot.right_motor, 'value'))"
   ]
  },
  {
   "cell_type": "markdown",
   "metadata": {},
   "source": [
    "Ahora podemos comprobar como el movimiento de los sliders se transmite al motor.\n",
    "\n",
    "La función ``link`` que utilizamos anteriormente crea un link bidireccional. Esto significa que si cambiamos el valor de los motores de otro modo, los sliders también se actualizarán. Para comprobarlo, ejecuta el siguiente código:"
   ]
  },
  {
   "cell_type": "code",
   "execution_count": null,
   "metadata": {},
   "outputs": [],
   "source": [
    "robot.forward(0.3)\n",
    "time.sleep(1.0)\n",
    "robot.stop()"
   ]
  },
  {
   "cell_type": "markdown",
   "metadata": {},
   "source": [
    "Deberías observar como los sliders responden a los comandos del motor. Si quisieramos eliminar la conexión entre los sliders y los motores podemos llamar al método ``unlink`` en cada link."
   ]
  },
  {
   "cell_type": "code",
   "execution_count": null,
   "metadata": {},
   "outputs": [],
   "source": [
    "left_link.unlink()\n",
    "right_link.unlink()"
   ]
  },
  {
   "cell_type": "markdown",
   "metadata": {},
   "source": [
    "Es posible crear una conexión unidireccional, por ejemplo en el caso en que se pretenda utilizar los sliders para mostrar los valores de cada motor, sin capacidad para modificarlos. Para conseguirlo podemos utilizar la función ``dlink``. El primer parámetro de la función es el traitlet de origen y el segundo el objetivo."
   ]
  },
  {
   "cell_type": "code",
   "execution_count": null,
   "metadata": {},
   "outputs": [],
   "source": [
    "left_link = traitlets.dlink((robot.left_motor, 'value'), (left_slider, 'value'))\n",
    "right_link = traitlets.dlink((robot.right_motor, 'value'), (right_slider, 'value'))"
   ]
  },
  {
   "cell_type": "markdown",
   "metadata": {},
   "source": [
    "Si movemos los sliders podemos comprobar que el robot no responde. Por el contrario, si modificamos el valor de los motores mediante otro método, comprobaremos que los sliders se actualizan correctamente."
   ]
  },
  {
   "cell_type": "markdown",
   "metadata": {},
   "source": [
    "### Asignar funciones a eventos"
   ]
  },
  {
   "cell_type": "markdown",
   "metadata": {},
   "source": [
    "Otro método de utilizar traitlets es el de asignar funciones (ej. ``forward``) a eventos. Estas funciones se invocarán cada vez que ocurra un cambio en un objeto, y se les transmitirá información sobre dicho cambio como el valor previo y el valor nuevo.\n",
    "\n",
    "A continuación, crearemos una interfaz con botones que utilizaremos para controlar el robot."
   ]
  },
  {
   "cell_type": "code",
   "execution_count": null,
   "metadata": {},
   "outputs": [],
   "source": [
    "# crear botones\n",
    "button_layout = widgets.Layout(width='100px', height='80px', align_self='center')\n",
    "stop_button = widgets.Button(description='stop', button_style='danger', layout=button_layout)\n",
    "forward_button = widgets.Button(description='forward', layout=button_layout)\n",
    "backward_button = widgets.Button(description='backward', layout=button_layout)\n",
    "left_button = widgets.Button(description='left', layout=button_layout)\n",
    "right_button = widgets.Button(description='right', layout=button_layout)\n",
    "\n",
    "# mostrar botones\n",
    "\n",
    "middle_box = widgets.HBox([left_button, stop_button, right_button], layout=widgets.Layout(align_self='center'))\n",
    "controls_box = widgets.VBox([forward_button, middle_box, backward_button])\n",
    "display(controls_box)"
   ]
  },
  {
   "cell_type": "markdown",
   "metadata": {},
   "source": [
    "Se debería mostrar un conjunto de controles para manejar el robot, aunque de momento no tienen funcionalidad asociada.\n",
    "\n",
    "Para crear esta funcionalidad debemos implementar una serie de funciones que se asignarán al evento ``on_click`` de cada evento."
   ]
  },
  {
   "cell_type": "code",
   "execution_count": null,
   "metadata": {},
   "outputs": [],
   "source": [
    "def stop(change):\n",
    "    robot.stop()\n",
    "    \n",
    "def step_forward(change):\n",
    "    robot.forward(0.4)\n",
    "    time.sleep(0.5)\n",
    "    robot.stop()\n",
    "\n",
    "def step_backward(change):\n",
    "    robot.backward(0.4)\n",
    "    time.sleep(0.5)\n",
    "    robot.stop()\n",
    "\n",
    "def step_left(change):\n",
    "    robot.left(0.3)\n",
    "    time.sleep(0.5)\n",
    "    robot.stop()\n",
    "\n",
    "def step_right(change):\n",
    "    robot.right(0.3)\n",
    "    time.sleep(0.5)\n",
    "    robot.stop()"
   ]
  },
  {
   "cell_type": "markdown",
   "metadata": {},
   "source": [
    "Una vez definidas las funciones, se asignarán a los eventos on_click de cada botón."
   ]
  },
  {
   "cell_type": "code",
   "execution_count": 1,
   "metadata": {},
   "outputs": [
    {
     "ename": "NameError",
     "evalue": "name 'stop_button' is not defined",
     "output_type": "error",
     "traceback": [
      "\u001b[0;31m---------------------------------------------------------------------------\u001b[0m",
      "\u001b[0;31mNameError\u001b[0m                                 Traceback (most recent call last)",
      "\u001b[0;32m<ipython-input-1-a83aab2b5fd8>\u001b[0m in \u001b[0;36m<module>\u001b[0;34m\u001b[0m\n\u001b[1;32m      1\u001b[0m \u001b[0;31m# asociar botones a acciones\u001b[0m\u001b[0;34m\u001b[0m\u001b[0;34m\u001b[0m\u001b[0;34m\u001b[0m\u001b[0m\n\u001b[0;32m----> 2\u001b[0;31m \u001b[0mstop_button\u001b[0m\u001b[0;34m.\u001b[0m\u001b[0mon_click\u001b[0m\u001b[0;34m(\u001b[0m\u001b[0mstop\u001b[0m\u001b[0;34m)\u001b[0m\u001b[0;34m\u001b[0m\u001b[0;34m\u001b[0m\u001b[0m\n\u001b[0m\u001b[1;32m      3\u001b[0m \u001b[0mforward_button\u001b[0m\u001b[0;34m.\u001b[0m\u001b[0mon_click\u001b[0m\u001b[0;34m(\u001b[0m\u001b[0mstep_forward\u001b[0m\u001b[0;34m)\u001b[0m\u001b[0;34m\u001b[0m\u001b[0;34m\u001b[0m\u001b[0m\n\u001b[1;32m      4\u001b[0m \u001b[0mbackward_button\u001b[0m\u001b[0;34m.\u001b[0m\u001b[0mon_click\u001b[0m\u001b[0;34m(\u001b[0m\u001b[0mstep_backward\u001b[0m\u001b[0;34m)\u001b[0m\u001b[0;34m\u001b[0m\u001b[0;34m\u001b[0m\u001b[0m\n\u001b[1;32m      5\u001b[0m \u001b[0mleft_button\u001b[0m\u001b[0;34m.\u001b[0m\u001b[0mon_click\u001b[0m\u001b[0;34m(\u001b[0m\u001b[0mstep_left\u001b[0m\u001b[0;34m)\u001b[0m\u001b[0;34m\u001b[0m\u001b[0;34m\u001b[0m\u001b[0m\n",
      "\u001b[0;31mNameError\u001b[0m: name 'stop_button' is not defined"
     ]
    }
   ],
   "source": [
    "# asociar botones a acciones\n",
    "stop_button.on_click(stop)\n",
    "forward_button.on_click(step_forward)\n",
    "backward_button.on_click(step_backward)\n",
    "left_button.on_click(step_left)\n",
    "right_button.on_click(step_right)"
   ]
  },
  {
   "cell_type": "markdown",
   "metadata": {},
   "source": [
    "Cada click de un botón debería producir un movimiento en el robot."
   ]
  },
  {
   "cell_type": "markdown",
   "metadata": {},
   "source": [
    "### Protocolo parada ante pérdida de conexión\n",
    "\n",
    "A continuación, se muestra como definir un una función que detenga el robot en caso de que se pierda la conexión con el robot. Para ello, se crea una instancia de la clase ``Heartbeat`` que permite determinar si la conexión con el robot es estable de manera automática. \n",
    "\n",
    "Si la comunicación entre el navegador y el robot no se realiza correctamente entre dos heartbeats, el atributo ``status`` del heartbeat pasará a ``dead``. Tan pronto como se restaure la conexión, el atributo ``status`` volverá a ``alive``.\n",
    "\n",
    "El periodo (en segundos) en que se evalúa el heartbeat puede ser fijado mediante el slider asociado."
   ]
  },
  {
   "cell_type": "code",
   "execution_count": null,
   "metadata": {},
   "outputs": [],
   "source": [
    "from jetbot import Heartbeat\n",
    "\n",
    "heartbeat = Heartbeat()\n",
    "\n",
    "# esta función será invocada cada vez que el estado del heartbeat cambie\n",
    "def handle_heartbeat_status(change):\n",
    "    if change['new'] == Heartbeat.Status.dead:\n",
    "        robot.stop()\n",
    "        \n",
    "heartbeat.observe(handle_heartbeat_status, names='status')\n",
    "\n",
    "period_slider = widgets.FloatSlider(description='period', min=0.001, max=0.5, step=0.01, value=0.5)\n",
    "traitlets.dlink((period_slider, 'value'), (heartbeat, 'period'))\n",
    "\n",
    "display(period_slider, heartbeat.pulseout)"
   ]
  },
  {
   "cell_type": "markdown",
   "metadata": {},
   "source": [
    "Si ejecutamos el siguiente código para arrancar los motores y bajamos el slider de manera que la condición de heartbeat no pueda satisfacerse, comprobaremos como se detiene el motor. También podría desconectarse el robot o PC del robot."
   ]
  },
  {
   "cell_type": "code",
   "execution_count": null,
   "metadata": {},
   "outputs": [],
   "source": [
    "robot.left(0.2) \n",
    "\n",
    "# Reducir el valor del slider hasta que se detenga el robot"
   ]
  },
  {
   "cell_type": "markdown",
   "metadata": {},
   "source": [
    "\n"
   ]
  }
 ],
 "metadata": {
  "kernelspec": {
   "display_name": "Python 3",
   "language": "python",
   "name": "python3"
  },
  "language_info": {
   "codemirror_mode": {
    "name": "ipython",
    "version": 3
   },
   "file_extension": ".py",
   "mimetype": "text/x-python",
   "name": "python",
   "nbconvert_exporter": "python",
   "pygments_lexer": "ipython3",
   "version": "3.6.8"
  }
 },
 "nbformat": 4,
 "nbformat_minor": 2
}
