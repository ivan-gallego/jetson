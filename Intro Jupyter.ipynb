{
 "cells": [
  {
   "cell_type": "markdown",
   "metadata": {},
   "source": [
    "# Introducción a los cuadernos Jupyter\n",
    "\n",
    "Un cuaderno o _notebook_ de Jupyter es un documento que permite integrar código, texto, imágenes y visualizaciones, que puede ser ejecutado en un navegador web. Este formato permite compartir flujos de trabajo, de manera que estos puedan ser replicados por otros usuarios.\n",
    "\n",
    "\n",
    "## Instalación\n",
    "\n",
    "Jupyter Notebook no está incluido en la instalación básica de Python, por lo que es necesario instalarlo con el siguiente comando:\n",
    "\n",
    "> pip install jupyter\n",
    "\n",
    "Una vez instalado, debemos iniciar el servidor Jupyter que nos permitirá gestionar los _notebooks_. Para ello, debemos iniciar una terminal en un directorio vacio y ejecutar el siguiente comando:\n",
    "\n",
    "> jupyter notebook\n",
    "\n",
    "Esto iniciará Jupyter y abrirá tu navegador web por defecto en la siguiente URL:\n",
    "http://localhost:8888/tree\n",
    "\n",
    "En ella podrás ver el servidor de _notebooks_, desde el que procederemos a crear un nuevo cuaderno pulsando el botón `New` arriba a la derecha. Aparecerán una serie de opciones dependientes de los entornos de ejecución instalados en el sistema, como por ejemplo Python 2 o Python 3.\n",
    "\n",
    "Una vez creado, se abrirá una nueva pestaña con el documento. En la parte superior de la página se muestra el nombre del cuaderno _Untitled_. Es posible cambiarlo clickando en el nombre.\n",
    "\n",
    "## Ejecutar celdas\n",
    "\n",
    "Un cuaderno de Jupyter está formado por un conjunto de celdas, que pueden contener, por mejemplo, código o texto. Una nueva celda por defecto siempre está configurada para introducir código, en el lenguaje seleccionado en la creación del cuaderno.\n",
    "\n",
    "Puesto que al iniciar el cuaderno seleccionamos Python 3, debemos utilizar Python en las celdas. Por ejemplo, podríamos incluir el siguiente comando\n",
    "\n",
    "\n",
    "\n",
    "\n"
   ]
  },
  {
   "cell_type": "code",
   "execution_count": 1,
   "metadata": {},
   "outputs": [
    {
     "name": "stdout",
     "output_type": "stream",
     "text": [
      "Test Python\n"
     ]
    }
   ],
   "source": [
    "print(\"Test Python\")"
   ]
  },
  {
   "cell_type": "markdown",
   "metadata": {},
   "source": [
    "\n",
    "Si ejecutas una celda se procesarán todos sus contenidos en el motor de ejecución seleccionado. Para ejecutar una celda debemos seleccionarla y pulsar el botón `Run` en la parte superior de la pantalla, o pulsar `Shift+Enter`.\n",
    "\n",
    "Si tienes múltiples celdas en un cuaderno y ejecutas cada una de ellas en orden, es posible compartir las variables y definiciones entre ellas. Esto nos permitirá dividir el código en bloques lógicos sin necesidad de importar librerias o inicializar variables en cada celda.\n",
    "\n",
    "## Menus\n",
    "Jupyter presenta un conjunto de menús que permiten interactuar con cada cuaderno, situados en la parte superior de la pantalla. \n",
    "\n",
    "* File: Permite crear un nuevo cuaderno o abrir uno previo. También presenta opciones para exportar los cuadernos o para guardar el estado del cuaderno actual.\n",
    "* Edit: Permite cortar, copiar y pegar celdas dentro de un mismo cuaderno. También tiene controles adicionales para borrar, dividir o combinar celdas. Algunas de las opciones solo estarán disponibles para ciertos tipos de celda.\n",
    "* View: Permite definir características de visibilidad de las cabeceras y los iconos.\n",
    "* Insert: Permite insertar nuevas celdas encima o debajo de la celda actual.\n",
    "* Cell: Presenta opciones para ejecutar una o varias celdas.\n",
    "* Kernel: Permite interactuar con el entorno de ejecución del cuaderno, como por ejemplo Python. Es posible reiniciarlo o cambiarlo.\n",
    "* Widgets: Permite guardar o restaurar el estado de los widgets creados en el Notebook. Los Widgets son elementos de interfaz (botones, sliders) que podremos definir desde Python y que nos permitirán interactuar con otros elementos del cuaderno.\n",
    "* Help: Presenta material de referencia sobre Python y Jupyter\n",
    "\n",
    "## Terminales\n",
    "Jupyter Notebook permite iniciar otros elementos al margen de los cuadernos. Desde el menú principal también es posible crear nuevos directorios, ficheros, o abrir terminales en tu navegador.\n",
    "\n",
    "La terminal resulta interesante puesto que permite ejecutar una comandos del sistema dentro del sistema operativo del servidor. En la práctica, esto nos permitirá ejecutar comandos de terminal remotos en el robot.\n"
   ]
  },
  {
   "cell_type": "markdown",
   "metadata": {},
   "source": [
    "## Formato de texto\n",
    "\n",
    "Jupyter soporta la escritura de texto en Markdown, un lenguaje de marcado simple muy extendido para la redacción de documentos. \n",
    "\n",
    "A continuación, se mencionan las principales características del mismo (para una descripción más detallada referirse a https://github.com/adam-p/markdown-here/wiki/Markdown-Cheatsheet:\n",
    "\n",
    "Utilizar _barras bajas_ o *asteriscos* para poner texto en cursiva.\n",
    "\n",
    "Utilizar __barras bajas dobles__ o **asteriscos dobles** para poner texto en negrita.\n",
    "\n",
    "Es posible definir títulos de diferentes tamaños con el símbolo #, como por ejemplo:\n",
    "\n",
    "# Prueba 1\n",
    "## Prueba 2\n",
    "### Prueba 3\n",
    "\n",
    "Es posible crear listas utilizando los signos (-, +, * ) para cada uno de los elementos de la lista:\n",
    "\n",
    "+ Elemento 1\n",
    "+ Elemento 2\n",
    "  + Elemento 2.1\n",
    "+ Elemento 3\n",
    "\n",
    "\n",
    "Para introducir ejemplos de código en el texto que no puedan ser ejecutados directamente, podemos utilizar la coma invertida triple y el lenguaje de programación a utilizar, por ejemplo:\n",
    "\n",
    "```python\n",
    "a = 23\n",
    "print(a)\n",
    "```\n",
    "\n",
    "\n",
    "## Exportar cuadernos\n",
    "Si fuera necesario compartir los resultados del cuaderno, es posible exportar los _notebooks_ a una variedad de formatos mediante el menú `File > Download as...`. Algunos formatos pueden requerir instalación de paquetes adicionales."
   ]
  }
 ],
 "metadata": {
  "kernelspec": {
   "display_name": "Python 3",
   "language": "python",
   "name": "python3"
  },
  "language_info": {
   "codemirror_mode": {
    "name": "ipython",
    "version": 3
   },
   "file_extension": ".py",
   "mimetype": "text/x-python",
   "name": "python",
   "nbconvert_exporter": "python",
   "pygments_lexer": "ipython3",
   "version": "3.6.8"
  }
 },
 "nbformat": 4,
 "nbformat_minor": 2
}
