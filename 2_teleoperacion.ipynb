{
 "cells": [
  {
   "cell_type": "markdown",
   "metadata": {},
   "source": [
    "# Teleoperación\n",
    "\n",
    "En este ejemplo controlaremos remótamente el robot con un mando conectado a nuestro ordenador."
   ]
  },
  {
   "cell_type": "markdown",
   "metadata": {},
   "source": [
    "### Controlador para el mando\n",
    "\n",
    "Para poder dirigir nuestro robot, crearemos una instancia del _widget_``Controller``. Esta clase nos proporciona una interfaz para un mando, con el que podremos pilotar nuestro robot. \n",
    "\n",
    "El _widget_ ``Controller``  toma un índice (``index``) como parámetro, el cuál especifica que mando de los que están conectados se empleará como entrada del mismo. Esto es útil cuando tenemos varios controladores conectados de forma simutanea, o para algunos controladores que puedan aparecer como varios controladores en el sistema.\n",
    "\n",
    "Para conocer el índice del controlador que queremos usar como entrada:\n",
    "\n",
    "1. Acceder a [http://html5gamepad.com](http://html5gamepad.com).  \n",
    "2. Encender y presionar alguno de los botones del mando hasta que la página lo reconozca.\n",
    "3. Aparecerá un identificador (``index``) del controlador con el que se está interaccionando. Usar este índice como parámetro del _widget_.\n",
    "\n",
    "A continuación, se creará y se visualizará la interfaz del mando:"
   ]
  },
  {
   "cell_type": "code",
   "execution_count": null,
   "metadata": {},
   "outputs": [],
   "source": [
    "import ipywidgets.widgets as widgets\n",
    "\n",
    "controller = widgets.Controller(index=0)  #Reemplazar por indice del mando\n",
    "\n",
    "display(controller)"
   ]
  },
  {
   "cell_type": "markdown",
   "metadata": {},
   "source": [
    "Es posible que aparezca el mensaje ``Connect gamepad and press any button``. Esto es debido a que el mando aún no se ha registrado en el notebook. Presiona cualquier botón y verás como aparece una visualización del _widget_."
   ]
  },
  {
   "cell_type": "markdown",
   "metadata": {},
   "source": [
    "### Conectar el controlador del mando a los motores del robot\n",
    "\n",
    "Una vez creada la instancia del controlador del mando, debemos contectarlos al control de nuestro robot. El control más sencillo sería poder modificar la velocidad de las ruedas del motor, usando el _joystick_ izquierdo para manejar el motor izquierdo y, de la misma forma, el derecho. \n",
    "\n",
    "Para ello usaremos la función  ``dlink``. A diferencia de la función ``link``, ``dlink`` crea un vínculo unidireccional, definiendo un atributo de origen y otro como destino. Además, se puede añadir una función de transformación del valor entre el origen y el destino. \n",
    "\n",
    "De forma intuitiva, mover un joystick hacía arriba llevaría a mover la rueda correspondiente hacia delante. Sin embargo, debido a como están dispuestos los ejes de los joysticks, los controles parecen invertidos. Por ello, emplearemos una función de transformación que niegue el valor.\n",
    "\n",
    "> ATENCIÓN: Ejecutar este bloque de código hará que el robot se mueva si interaccionas con el mando. Comprobar primero que el robot tiene espacio suficiente."
   ]
  },
  {
   "cell_type": "code",
   "execution_count": null,
   "metadata": {},
   "outputs": [],
   "source": [
    "from jetbot import Robot\n",
    "import traitlets\n",
    "\n",
    "robot = Robot()\n",
    "\n",
    "def invert_movement(x):\n",
    "    return -x\n",
    "\n",
    "left_link = traitlets.dlink((controller.axes[1], 'value'), (robot.left_motor, 'value'), transform=invert_movement)\n",
    "right_link = traitlets.dlink((controller.axes[3], 'value'), (robot.right_motor, 'value'), transform=invert_movement)"
   ]
  },
  {
   "cell_type": "markdown",
   "metadata": {},
   "source": [
    "Para evitar tener que definir una función tan pequeña y que sólo se usará esta vez, podemos usar en su lugar una expresión _lambda_. Estas funciones pueden simplificar el código, y se encuentran comunmente. Para el ejemplo anterior, el código resultaría:"
   ]
  },
  {
   "cell_type": "code",
   "execution_count": null,
   "metadata": {},
   "outputs": [],
   "source": [
    "# left_link = traitlets.dlink((controller.axes[1], 'value'), (robot.left_motor, 'value'), transform=lambda x: -x)\n",
    "# right_link = traitlets.dlink((controller.axes[3], 'value'), (robot.right_motor, 'value'), transform=lambda x: -x)"
   ]
  },
  {
   "cell_type": "markdown",
   "metadata": {},
   "source": [
    "> ATENCIÓN: No ejecutar este fragmento de código sin desvincular antes las acciones para evitar ducplicados. "
   ]
  },
  {
   "cell_type": "markdown",
   "metadata": {},
   "source": [
    "### Conexión con la cámara\n",
    "\n",
    "1) Crear un _widget_ para la visualización:\n",
    "\n",
    "Usaremos un _widget_ de tipo ``Image`` donde mostrar el _feed_ en directo de la cámara de nuestro robot. Tenemos que indicar la resolución de la misma dando valores a los parámetros de ``width`` (ancho) y ``height`` (alto). La fijaremos en 300x300 píxles para que no ocupe demasiado espacio. Hay que tener en cuenta, no obstante, que la resolución del _widget_ sólo afecta a la visualización por la parte del navegador, no a la resolución con la que imagen es capturada por la cámara de forma nativa."
   ]
  },
  {
   "cell_type": "code",
   "execution_count": null,
   "metadata": {},
   "outputs": [],
   "source": [
    "image = widgets.Image(format='jpeg', width=300, height=300)\n",
    "\n",
    "display(image)"
   ]
  },
  {
   "cell_type": "markdown",
   "metadata": {},
   "source": [
    "La imagen aparece vacía ya que, de momento, sólo hemos creado el _widget_ donde visualizar la imagen, pero aún no le hemos dado un valor. "
   ]
  },
  {
   "cell_type": "markdown",
   "metadata": {},
   "source": [
    "2) Crear una instancia de la cámara\n",
    "\n",
    "A continuación, debemos inicializar la cámara. Para ello, crearemos una instancia de la clase ``Camera`` y conectaremos el atributo del valor (``value``) de la cámara al del _widget_ de la imagen de visualización.\n",
    "\n",
    "Para instanciar la cámara se debe llamar al método ``instance`` que devolverá una nueva instancia de la cámara si esta no existe. Si ya exisitía, devolverá una referencia a la cámara existente.\n",
    "\n",
    "> INFORMACIÓN: Esta forma de instanciar un objeto se da con el patrón de diseño del _singleton_, en el que se restringe la creación de objetos pertenecientes a una clase a un único objeto. "
   ]
  },
  {
   "cell_type": "code",
   "execution_count": null,
   "metadata": {},
   "outputs": [],
   "source": [
    "from jetbot import Camera\n",
    "\n",
    "camera = Camera.instance()"
   ]
  },
  {
   "cell_type": "markdown",
   "metadata": {},
   "source": [
    "3) Conectar la cámara al _widget_ de la imagen: cambio de formato\n",
    "\n",
    "Nuestra cámara captura imágenes en formato BGR8, mientras que nuestro _widget_ de imagen sólo acepta valores en el formato comprimido *JPEG*. Por lo tanto, será necesario transformar de un tipo de formato a otro. Para ello, usaremos la función``bgr8_to_jpeg``, incluida en este tutorial, como función de transformación en el enlace. \n",
    "\n",
    "> INFORMACIÓN: El formato BGR8 indica que la imagen está formada por tres canales de color, BGR (de _blue_,_green_ y _red_), con una profundidad de 8 bits cada uno. En este caso, 8 bits para el valor de cada uno de los componentes, por lo que tenemos valores que van de 0 a 255."
   ]
  },
  {
   "cell_type": "code",
   "execution_count": null,
   "metadata": {},
   "outputs": [],
   "source": [
    "from jetbot import bgr8_to_jpeg\n",
    "\n",
    "camera_link = traitlets.dlink((camera, 'value'), (image, 'value'), transform=bgr8_to_jpeg)"
   ]
  },
  {
   "cell_type": "markdown",
   "metadata": {},
   "source": [
    "Tras este paso, la salida de la cámara debería estar conectada al widget de la imagen, y se debería transmitir la señal en directo.\n",
    "\n",
    "> RECUERDA: Puedes hacer click derecho en salida del _widget_ y seleccionar ``Create New View for Output`` para mostrar el _widget_ en una nueva ventana. "
   ]
  },
  {
   "cell_type": "markdown",
   "metadata": {},
   "source": [
    "### Paro de emergencia si se pierde la conexión con la señal\n",
    "\n",
    "¿Qué ocurre si el robot se desconecta de la red WiFi? El robot permanecería en movimiento, intentando comunicar imágenes de vídeo y comandos para el control de los motores. Para evitar este comportamiento, estableceremos un sistema de seguridad que pare el robot y desconecte la cámara y motores cuando se desconecte de la red WiFi. Para ello, usaremos la clase ``Heartbeat`` empleada en el tutorial anterior. "
   ]
  },
  {
   "cell_type": "code",
   "execution_count": null,
   "metadata": {},
   "outputs": [],
   "source": [
    "from jetbot import Heartbeat\n",
    "\n",
    "def handle_heartbeat_status(change):\n",
    "    if change['new'] == Heartbeat.Status.dead:\n",
    "        camera_link.unlink()\n",
    "        left_link.unlink()\n",
    "        right_link.unlink()\n",
    "        robot.stop()\n",
    "\n",
    "heartbeat = Heartbeat(period=0.5)\n",
    "\n",
    "# Se conecta la función de seguridad en el caso de que el estado del Heartbeat cambie\n",
    "heartbeat.observe(handle_heartbeat_status, names='status')"
   ]
  },
  {
   "cell_type": "markdown",
   "metadata": {},
   "source": [
    "> Si la conexión con el robot se pierde, este parará. Para recuperar el control del robot, una vez este vuelva a estar conectado, será necesario realizar de nuevo las conexiones entre los componentes. Para ello, podemos ejecutar el siguiente bloque de comunicación. "
   ]
  },
  {
   "cell_type": "code",
   "execution_count": null,
   "metadata": {},
   "outputs": [],
   "source": [
    "# only call this if your robot links were unlinked, otherwise we'll have redundant links which will double\n",
    "# the commands transfered\n",
    "\n",
    "left_link = traitlets.dlink((controller.axes[1], 'value'), (robot.left_motor, 'value'), transform=lambda x: -x)\n",
    "right_link = traitlets.dlink((controller.axes[3], 'value'), (robot.right_motor, 'value'), transform=lambda x: -x)\n",
    "camera_link = traitlets.dlink((camera, 'value'), (image, 'value'), transform=bgr8_to_jpeg)"
   ]
  },
  {
   "cell_type": "markdown",
   "metadata": {},
   "source": [
    "### Guarda capturas de pantalla con un botón del mando\n",
    "\n",
    "Nos interesa poder guardar imágenes tomadas por nuestro robot para pasos posteriores. Para ello, haremos que un botón del mando sirva para poder salvar una captura de la imagen actual transmitada por el robot. \n",
    "\n",
    "Crearemos un directorio en esta misma carpeta llamado ``capturas/``, en la que iremos guardando las imágenes obtenidas."
   ]
  },
  {
   "cell_type": "code",
   "execution_count": 2,
   "metadata": {},
   "outputs": [],
   "source": [
    "import subprocess\n",
    "\n",
    "subprocess.call(['mkdir', '-p', 'capturas'])"
   ]
  },
  {
   "cell_type": "markdown",
   "metadata": {},
   "source": [
    "Cada archivo tendrá que tener un nombre único, por lo que emplearemos el paquete de python ``uuid`` (con el que se pueden generar identificadores únicos). Usaremos el identificador ``uuid1`` que también codifica la fecha y la dirección MAC, por si la necesitásemos más adelante. En el siguiente bloque definiremos la función que, al pulsar el botón, se ejecutará para guardar la imagen y enseñarla en un _widget_ de imagen."
   ]
  },
  {
   "cell_type": "code",
   "execution_count": null,
   "metadata": {},
   "outputs": [],
   "source": [
    "import uuid\n",
    "\n",
    "snapshot_image = widgets.Image(format='jpeg', width=300, height=300)\n",
    "\n",
    "def save_snapshot(change):\n",
    "    # Guardar una captura de la cámara cuando se pulse el botón asignado\n",
    "    if change['new']:\n",
    "        # Creacion de la ruta al archivo\n",
    "        file_path = 'capturas/' + str(uuid.uuid1()) + '.jpg'\n",
    "        \n",
    "        # Escribir el contenido de la imagen en el archivo \n",
    "        # (usaremos el valor del widget porque ya está convertido a JPEG)\n",
    "        with open(file_path, 'wb') as f:\n",
    "            f.write(image.value)\n",
    "            \n",
    "        # Mostrar en el widget\n",
    "        snapshot_image.value = image.value"
   ]
  },
  {
   "cell_type": "markdown",
   "metadata": {},
   "source": [
    "El botón a utilizar podrá ser cualquiera de lo accionadores digitales del mando, simplemente hay que buscar el índice correspondiente para el botón escogido. Por ejemplo, acorde al mapeo del mando de la XBOX, el botón _RB_ (gatillo superior derecho) tiene el valor 5. "
   ]
  },
  {
   "cell_type": "code",
   "execution_count": null,
   "metadata": {},
   "outputs": [],
   "source": [
    "controller.buttons[5].observe(save_snapshot, names='value')\n",
    "\n",
    "display(widgets.HBox([image, snapshot_image]))\n",
    "display(controller)"
   ]
  }
 ],
 "metadata": {
  "kernelspec": {
   "display_name": "Python 3",
   "language": "python",
   "name": "python3"
  },
  "language_info": {
   "codemirror_mode": {
    "name": "ipython",
    "version": 3
   },
   "file_extension": ".py",
   "mimetype": "text/x-python",
   "name": "python",
   "nbconvert_exporter": "python",
   "pygments_lexer": "ipython3",
   "version": "3.7.3"
  }
 },
 "nbformat": 4,
 "nbformat_minor": 2
}
